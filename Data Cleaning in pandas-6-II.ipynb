{
 "cells": [
  {
   "cell_type": "markdown",
   "id": "08a12e58",
   "metadata": {},
   "source": [
    "## Lab6.Pandas data cleaning Part-II"
   ]
  },
  {
   "cell_type": "markdown",
   "id": "aaad5eaa",
   "metadata": {},
   "source": [
    "### 225229138"
   ]
  },
  {
   "cell_type": "markdown",
   "id": "e374a5ec",
   "metadata": {},
   "source": [
    "### Label encoder in Scikit Learn"
   ]
  },
  {
   "cell_type": "code",
   "execution_count": 1,
   "id": "729167ec",
   "metadata": {},
   "outputs": [],
   "source": [
    "import pandas as pd\n",
    "from sklearn.preprocessing import LabelEncoder"
   ]
  },
  {
   "cell_type": "code",
   "execution_count": 2,
   "id": "6eba5746",
   "metadata": {},
   "outputs": [],
   "source": [
    "le = LabelEncoder()\n",
    "#New object\n",
    "df = pd.DataFrame(data = {'col1': ['foo','bar','foo','bar'],\n",
    "'col2': ['x', 'y', 'x', 'z'],\n",
    "'col3': [1, 2, 3, 4]})"
   ]
  },
  {
   "cell_type": "code",
   "execution_count": 3,
   "id": "54046d24",
   "metadata": {},
   "outputs": [
    {
     "data": {
      "text/html": [
       "<div>\n",
       "<style scoped>\n",
       "    .dataframe tbody tr th:only-of-type {\n",
       "        vertical-align: middle;\n",
       "    }\n",
       "\n",
       "    .dataframe tbody tr th {\n",
       "        vertical-align: top;\n",
       "    }\n",
       "\n",
       "    .dataframe thead th {\n",
       "        text-align: right;\n",
       "    }\n",
       "</style>\n",
       "<table border=\"1\" class=\"dataframe\">\n",
       "  <thead>\n",
       "    <tr style=\"text-align: right;\">\n",
       "      <th></th>\n",
       "      <th>col1</th>\n",
       "      <th>col2</th>\n",
       "      <th>col3</th>\n",
       "    </tr>\n",
       "  </thead>\n",
       "  <tbody>\n",
       "    <tr>\n",
       "      <th>0</th>\n",
       "      <td>1</td>\n",
       "      <td>0</td>\n",
       "      <td>0</td>\n",
       "    </tr>\n",
       "    <tr>\n",
       "      <th>1</th>\n",
       "      <td>0</td>\n",
       "      <td>1</td>\n",
       "      <td>1</td>\n",
       "    </tr>\n",
       "    <tr>\n",
       "      <th>2</th>\n",
       "      <td>1</td>\n",
       "      <td>0</td>\n",
       "      <td>2</td>\n",
       "    </tr>\n",
       "    <tr>\n",
       "      <th>3</th>\n",
       "      <td>0</td>\n",
       "      <td>2</td>\n",
       "      <td>3</td>\n",
       "    </tr>\n",
       "  </tbody>\n",
       "</table>\n",
       "</div>"
      ],
      "text/plain": [
       "   col1  col2  col3\n",
       "0     1     0     0\n",
       "1     0     1     1\n",
       "2     1     0     2\n",
       "3     0     2     3"
      ]
     },
     "execution_count": 3,
     "metadata": {},
     "output_type": "execute_result"
    }
   ],
   "source": [
    "df.apply(le.fit_transform)"
   ]
  },
  {
   "cell_type": "markdown",
   "id": "33964c53",
   "metadata": {},
   "source": [
    "### One Hot Encoder"
   ]
  },
  {
   "cell_type": "code",
   "execution_count": 4,
   "id": "ee5091cf",
   "metadata": {},
   "outputs": [
    {
     "data": {
      "text/html": [
       "<div>\n",
       "<style scoped>\n",
       "    .dataframe tbody tr th:only-of-type {\n",
       "        vertical-align: middle;\n",
       "    }\n",
       "\n",
       "    .dataframe tbody tr th {\n",
       "        vertical-align: top;\n",
       "    }\n",
       "\n",
       "    .dataframe thead th {\n",
       "        text-align: right;\n",
       "    }\n",
       "</style>\n",
       "<table border=\"1\" class=\"dataframe\">\n",
       "  <thead>\n",
       "    <tr style=\"text-align: right;\">\n",
       "      <th></th>\n",
       "      <th>A</th>\n",
       "      <th>B</th>\n",
       "      <th>C</th>\n",
       "    </tr>\n",
       "  </thead>\n",
       "  <tbody>\n",
       "    <tr>\n",
       "      <th>0</th>\n",
       "      <td>a</td>\n",
       "      <td>b</td>\n",
       "      <td>1</td>\n",
       "    </tr>\n",
       "    <tr>\n",
       "      <th>1</th>\n",
       "      <td>b</td>\n",
       "      <td>a</td>\n",
       "      <td>2</td>\n",
       "    </tr>\n",
       "    <tr>\n",
       "      <th>2</th>\n",
       "      <td>a</td>\n",
       "      <td>c</td>\n",
       "      <td>3</td>\n",
       "    </tr>\n",
       "  </tbody>\n",
       "</table>\n",
       "</div>"
      ],
      "text/plain": [
       "   A  B  C\n",
       "0  a  b  1\n",
       "1  b  a  2\n",
       "2  a  c  3"
      ]
     },
     "execution_count": 4,
     "metadata": {},
     "output_type": "execute_result"
    }
   ],
   "source": [
    "df=pd.DataFrame({'A':['a','b','a'],'B':['b','a','c'],'C':[1,2,3]})\n",
    "df"
   ]
  },
  {
   "cell_type": "code",
   "execution_count": 5,
   "id": "6e336759",
   "metadata": {},
   "outputs": [
    {
     "data": {
      "text/html": [
       "<div>\n",
       "<style scoped>\n",
       "    .dataframe tbody tr th:only-of-type {\n",
       "        vertical-align: middle;\n",
       "    }\n",
       "\n",
       "    .dataframe tbody tr th {\n",
       "        vertical-align: top;\n",
       "    }\n",
       "\n",
       "    .dataframe thead th {\n",
       "        text-align: right;\n",
       "    }\n",
       "</style>\n",
       "<table border=\"1\" class=\"dataframe\">\n",
       "  <thead>\n",
       "    <tr style=\"text-align: right;\">\n",
       "      <th></th>\n",
       "      <th>C</th>\n",
       "      <th>col1_a</th>\n",
       "      <th>col1_b</th>\n",
       "      <th>col2_a</th>\n",
       "      <th>col2_b</th>\n",
       "      <th>col2_c</th>\n",
       "    </tr>\n",
       "  </thead>\n",
       "  <tbody>\n",
       "    <tr>\n",
       "      <th>0</th>\n",
       "      <td>1</td>\n",
       "      <td>1</td>\n",
       "      <td>0</td>\n",
       "      <td>0</td>\n",
       "      <td>1</td>\n",
       "      <td>0</td>\n",
       "    </tr>\n",
       "    <tr>\n",
       "      <th>1</th>\n",
       "      <td>2</td>\n",
       "      <td>0</td>\n",
       "      <td>1</td>\n",
       "      <td>1</td>\n",
       "      <td>0</td>\n",
       "      <td>0</td>\n",
       "    </tr>\n",
       "    <tr>\n",
       "      <th>2</th>\n",
       "      <td>3</td>\n",
       "      <td>1</td>\n",
       "      <td>0</td>\n",
       "      <td>0</td>\n",
       "      <td>0</td>\n",
       "      <td>1</td>\n",
       "    </tr>\n",
       "  </tbody>\n",
       "</table>\n",
       "</div>"
      ],
      "text/plain": [
       "   C  col1_a  col1_b  col2_a  col2_b  col2_c\n",
       "0  1       1       0       0       1       0\n",
       "1  2       0       1       1       0       0\n",
       "2  3       1       0       0       0       1"
      ]
     },
     "execution_count": 5,
     "metadata": {},
     "output_type": "execute_result"
    }
   ],
   "source": [
    "pd.get_dummies(df,prefix=['col1','col2'])"
   ]
  },
  {
   "cell_type": "markdown",
   "id": "35bb1864",
   "metadata": {},
   "source": [
    "### MinMaxScaler"
   ]
  },
  {
   "cell_type": "code",
   "execution_count": 6,
   "id": "9b0af181",
   "metadata": {},
   "outputs": [
    {
     "data": {
      "text/plain": [
       "array([[1.        , 1.        , 0.        ],\n",
       "       [0.36111111, 0.        , 0.83333333],\n",
       "       [0.        , 0.22368421, 1.        ]])"
      ]
     },
     "execution_count": 6,
     "metadata": {},
     "output_type": "execute_result"
    }
   ],
   "source": [
    "from sklearn.preprocessing import MinMaxScaler\n",
    "mm_scaler=MinMaxScaler(feature_range=(0,1))\n",
    "df2=pd.DataFrame({\"col1\":[5,-41,-67],\"col2\":[23,-53,-36],\"col3\":[-25,10,17]})\n",
    "mm_scaler.fit_transform(df2)"
   ]
  },
  {
   "cell_type": "markdown",
   "id": "453cdd9c",
   "metadata": {},
   "source": [
    "### Binarizer"
   ]
  },
  {
   "cell_type": "code",
   "execution_count": 7,
   "id": "0f996628",
   "metadata": {},
   "outputs": [
    {
     "data": {
      "text/plain": [
       "array([[0, 0, 1],\n",
       "       [0, 1, 1]], dtype=int64)"
      ]
     },
     "execution_count": 7,
     "metadata": {},
     "output_type": "execute_result"
    }
   ],
   "source": [
    "from sklearn.preprocessing import Binarizer\n",
    "dfb=pd.DataFrame({\"col1\":[110,200],\"col2\":[120,800],\"col3\":[310,400]})\n",
    "bin=Binarizer(threshold=300)\n",
    "bin.fit_transform(dfb)"
   ]
  },
  {
   "cell_type": "markdown",
   "id": "ddb30f32",
   "metadata": {},
   "source": [
    "### Imputer"
   ]
  },
  {
   "cell_type": "code",
   "execution_count": 8,
   "id": "638879d3",
   "metadata": {},
   "outputs": [
    {
     "name": "stdout",
     "output_type": "stream",
     "text": [
      "   col1  col2  col3  col4\n",
      "0     7   4.0   NaN  10.0\n",
      "1     2   NaN   NaN   NaN\n",
      "2     3   6.0   3.0   9.0\n"
     ]
    },
    {
     "data": {
      "text/plain": [
       "array([[ 7. ,  4. ,  3. , 10. ],\n",
       "       [ 2. ,  5. ,  3. ,  9.5],\n",
       "       [ 3. ,  6. ,  3. ,  9. ]])"
      ]
     },
     "execution_count": 8,
     "metadata": {},
     "output_type": "execute_result"
    }
   ],
   "source": [
    "import numpy as np\n",
    "from sklearn.impute import SimpleImputer\n",
    "import pandas as pd\n",
    "imp_mean=SimpleImputer(missing_values=np.nan,strategy='mean')\n",
    "df=pd.DataFrame({\"col1\":[7,2,3],\n",
    "                  \"col2\":[4,np.nan,6],\n",
    "                  \"col3\":[np.nan,np.nan,3],\n",
    "                  \"col4\":[10,np.nan,9] })\n",
    "print(df)\n",
    "imp_mean.fit_transform(df)\n"
   ]
  },
  {
   "cell_type": "markdown",
   "id": "072de40f",
   "metadata": {},
   "source": [
    "### De-dupliation or Entity Resolution and String Matching"
   ]
  },
  {
   "cell_type": "code",
   "execution_count": 9,
   "id": "90bc102e",
   "metadata": {},
   "outputs": [],
   "source": [
    "import warnings \n",
    "warnings.filterwarnings('ignore') "
   ]
  },
  {
   "cell_type": "code",
   "execution_count": 10,
   "id": "60f33186",
   "metadata": {},
   "outputs": [
    {
     "name": "stdout",
     "output_type": "stream",
     "text": [
      "Requirement already satisfied: fuzzywuzzy in c:\\users\\admin\\anaconda3\\lib\\site-packages (0.18.0)\n",
      "Note: you may need to restart the kernel to use updated packages.\n"
     ]
    }
   ],
   "source": [
    "pip install fuzzywuzzy"
   ]
  },
  {
   "cell_type": "code",
   "execution_count": 11,
   "id": "003b925b",
   "metadata": {},
   "outputs": [],
   "source": [
    "from fuzzywuzzy import fuzz \n",
    "from fuzzywuzzy import process "
   ]
  },
  {
   "cell_type": "code",
   "execution_count": 12,
   "id": "654ae5f5",
   "metadata": {},
   "outputs": [
    {
     "name": "stdout",
     "output_type": "stream",
     "text": [
      "Requirement already satisfied: pip in c:\\users\\admin\\anaconda3\\lib\\site-packages (23.0.1)\n",
      "Note: you may need to restart the kernel to use updated packages.\n"
     ]
    }
   ],
   "source": [
    "pip install --upgrade pip "
   ]
  },
  {
   "cell_type": "code",
   "execution_count": 13,
   "id": "2b60d2ec",
   "metadata": {},
   "outputs": [],
   "source": [
    "a=\"Welcome to Bishop Heber College\" \n",
    "b=\"I am pursuing master of DataScience at Bishop collage\" \n",
    "ratio=fuzz.ratio(a,b) \n",
    "weighted_ratio=fuzz.WRatio(a,b) \n",
    "unicode_ratio=fuzz.UQRatio(a,b) "
   ]
  },
  {
   "cell_type": "code",
   "execution_count": 14,
   "id": "25a67413",
   "metadata": {},
   "outputs": [
    {
     "name": "stdout",
     "output_type": "stream",
     "text": [
      "Ratio :  43\n"
     ]
    }
   ],
   "source": [
    "print(\"Ratio : \", ratio) "
   ]
  },
  {
   "cell_type": "code",
   "execution_count": 15,
   "id": "5e7cb06e",
   "metadata": {},
   "outputs": [
    {
     "name": "stdout",
     "output_type": "stream",
     "text": [
      "Weighted Ration: 86\n"
     ]
    }
   ],
   "source": [
    "print(\"Weighted Ration:\",weighted_ratio) "
   ]
  },
  {
   "cell_type": "code",
   "execution_count": 16,
   "id": "82a0c990",
   "metadata": {},
   "outputs": [
    {
     "name": "stdout",
     "output_type": "stream",
     "text": [
      "Unicode_ratio :  45\n"
     ]
    }
   ],
   "source": [
    "print(\"Unicode_ratio : \", unicode_ratio) "
   ]
  },
  {
   "cell_type": "code",
   "execution_count": 17,
   "id": "c8af4d23",
   "metadata": {},
   "outputs": [],
   "source": [
    "c=a+b "
   ]
  },
  {
   "cell_type": "code",
   "execution_count": 18,
   "id": "5e5a8a67",
   "metadata": {},
   "outputs": [],
   "source": [
    "ex_tract=process.extract('I',c)"
   ]
  },
  {
   "cell_type": "code",
   "execution_count": 19,
   "id": "3aa45c32",
   "metadata": {},
   "outputs": [
    {
     "data": {
      "text/plain": [
       "[('i', 100), ('I', 100), ('i', 100), ('i', 100), ('i', 100)]"
      ]
     },
     "execution_count": 19,
     "metadata": {},
     "output_type": "execute_result"
    }
   ],
   "source": [
    "ex_tract"
   ]
  },
  {
   "cell_type": "code",
   "execution_count": 23,
   "id": "86ee3c42",
   "metadata": {},
   "outputs": [
    {
     "data": {
      "text/plain": [
       "('i', 100)"
      ]
     },
     "execution_count": 23,
     "metadata": {},
     "output_type": "execute_result"
    }
   ],
   "source": [
    "ex_tract1=process.extractOne (\"I\",c) \n",
    "ex_tract1 "
   ]
  },
  {
   "cell_type": "markdown",
   "id": "82b52040",
   "metadata": {},
   "source": [
    "### Dedupe"
   ]
  },
  {
   "cell_type": "code",
   "execution_count": 24,
   "id": "0b86399c",
   "metadata": {},
   "outputs": [
    {
     "name": "stdout",
     "output_type": "stream",
     "text": [
      "Collecting dedupe\n",
      "  Downloading dedupe-2.0.23-cp39-cp39-win_amd64.whl (96 kB)\n",
      "     --------------------------------------- 96.8/96.8 kB 98.9 kB/s eta 0:00:00\n",
      "Collecting dedupe-variable-datetime\n",
      "  Downloading dedupe_variable_datetime-1.0.0-py3-none-any.whl (3.9 kB)\n",
      "Collecting BTrees>=4.1.4\n",
      "  Downloading BTrees-5.0-cp39-cp39-win_amd64.whl (992 kB)\n",
      "     -------------------------------------- 992.8/992.8 kB 2.4 MB/s eta 0:00:00\n",
      "Requirement already satisfied: scikit-learn in c:\\users\\admin\\anaconda3\\lib\\site-packages (from dedupe) (1.0.2)\n",
      "Collecting simplecosine>=1.2\n",
      "  Downloading simplecosine-1.2-py2.py3-none-any.whl (3.2 kB)\n",
      "Requirement already satisfied: typing-extensions in c:\\users\\admin\\anaconda3\\lib\\site-packages (from dedupe) (4.1.1)\n",
      "Collecting dedupe-Levenshtein-search\n",
      "  Downloading dedupe_Levenshtein_search-1.4.5-cp39-cp39-win_amd64.whl (14 kB)\n",
      "Collecting categorical-distance>=1.9\n",
      "  Downloading categorical_distance-1.9-py3-none-any.whl (3.3 kB)\n",
      "Collecting affinegap>=1.3\n",
      "  Downloading affinegap-1.12-cp39-cp39-win_amd64.whl (16 kB)\n",
      "Collecting highered>=0.2.0\n",
      "  Downloading highered-0.2.1-py2.py3-none-any.whl (3.3 kB)\n",
      "Collecting haversine>=0.4.1\n",
      "  Downloading haversine-2.8.0-py2.py3-none-any.whl (7.7 kB)\n",
      "Collecting doublemetaphone\n",
      "  Downloading DoubleMetaphone-1.1-cp39-cp39-win_amd64.whl (28 kB)\n",
      "Collecting zope.index\n",
      "  Downloading zope.index-5.2.1-cp39-cp39-win_amd64.whl (95 kB)\n",
      "     ---------------------------------------- 95.2/95.2 kB 1.8 MB/s eta 0:00:00\n",
      "Requirement already satisfied: numpy>=1.20 in c:\\users\\admin\\anaconda3\\lib\\site-packages (from dedupe) (1.21.5)\n",
      "Collecting persistent>=4.1.0\n",
      "  Downloading persistent-5.0-cp39-cp39-win_amd64.whl (157 kB)\n",
      "     -------------------------------------- 157.1/157.1 kB 2.3 MB/s eta 0:00:00\n",
      "Requirement already satisfied: zope.interface>=5.0.0 in c:\\users\\admin\\anaconda3\\lib\\site-packages (from BTrees>=4.1.4->dedupe) (5.4.0)\n",
      "Collecting pyhacrf-datamade>=0.2.0\n",
      "  Downloading pyhacrf_datamade-0.2.6-cp39-cp39-win_amd64.whl (184 kB)\n",
      "     -------------------------------------- 184.9/184.9 kB 1.4 MB/s eta 0:00:00\n",
      "Collecting dedupe-variable-datetime\n",
      "  Downloading dedupe_variable_datetime-0.1.5-py3-none-any.whl (4.8 kB)\n",
      "Requirement already satisfied: future in c:\\users\\admin\\anaconda3\\lib\\site-packages (from dedupe-variable-datetime->dedupe) (0.18.2)\n",
      "Collecting datetime-distance\n",
      "  Downloading datetime_distance-0.1.3-py3-none-any.whl (4.1 kB)\n",
      "Requirement already satisfied: joblib>=0.11 in c:\\users\\admin\\anaconda3\\lib\\site-packages (from scikit-learn->dedupe) (1.1.0)\n",
      "Requirement already satisfied: scipy>=1.1.0 in c:\\users\\admin\\anaconda3\\lib\\site-packages (from scikit-learn->dedupe) (1.7.3)\n",
      "Requirement already satisfied: threadpoolctl>=2.0.0 in c:\\users\\admin\\anaconda3\\lib\\site-packages (from scikit-learn->dedupe) (2.2.0)\n",
      "Requirement already satisfied: six in c:\\users\\admin\\anaconda3\\lib\\site-packages (from zope.index->dedupe) (1.16.0)\n",
      "Requirement already satisfied: setuptools in c:\\users\\admin\\anaconda3\\lib\\site-packages (from zope.index->dedupe) (61.2.0)\n",
      "Requirement already satisfied: cffi in c:\\users\\admin\\anaconda3\\lib\\site-packages (from persistent>=4.1.0->BTrees>=4.1.4->dedupe) (1.15.0)\n",
      "Collecting PyLBFGS>=0.1.3\n",
      "  Downloading PyLBFGS-0.2.0.14-cp39-cp39-win_amd64.whl (54 kB)\n",
      "     -------------------------------------- 54.4/54.4 kB 401.1 kB/s eta 0:00:00\n",
      "Requirement already satisfied: python-dateutil>=2.6.0 in c:\\users\\admin\\anaconda3\\lib\\site-packages (from datetime-distance->dedupe-variable-datetime->dedupe) (2.8.2)\n",
      "Requirement already satisfied: pycparser in c:\\users\\admin\\anaconda3\\lib\\site-packages (from cffi->persistent>=4.1.0->BTrees>=4.1.4->dedupe) (2.21)\n",
      "Installing collected packages: doublemetaphone, dedupe-Levenshtein-search, affinegap, simplecosine, PyLBFGS, haversine, categorical-distance, pyhacrf-datamade, persistent, datetime-distance, highered, BTrees, zope.index, dedupe-variable-datetime, dedupe\n",
      "Successfully installed BTrees-5.0 PyLBFGS-0.2.0.14 affinegap-1.12 categorical-distance-1.9 datetime-distance-0.1.3 dedupe-2.0.23 dedupe-Levenshtein-search-1.4.5 dedupe-variable-datetime-0.1.5 doublemetaphone-1.1 haversine-2.8.0 highered-0.2.1 persistent-5.0 pyhacrf-datamade-0.2.6 simplecosine-1.2 zope.index-5.2.1\n"
     ]
    }
   ],
   "source": [
    "!pip install dedupe"
   ]
  },
  {
   "cell_type": "code",
   "execution_count": 25,
   "id": "28852859",
   "metadata": {},
   "outputs": [
    {
     "data": {
      "text/plain": [
       "dict_keys(['Naereini'])"
      ]
     },
     "execution_count": 25,
     "metadata": {},
     "output_type": "execute_result"
    }
   ],
   "source": [
    "dupes=[\"ftti\",\"rtrt\",\"Dereana\",\"Rereri\",\"Derea\",\"Naereini\",\"Nerea\",\"Jeeee\",\"Dwea\",\"Sawawi\"]\n",
    "process.dedupe(dupes,threshold=10)"
   ]
  },
  {
   "cell_type": "code",
   "execution_count": 26,
   "id": "588c9091",
   "metadata": {},
   "outputs": [
    {
     "data": {
      "text/plain": [
       "[('Naereini', 90), ('ftti', 45), ('Dereana', 45)]"
      ]
     },
     "execution_count": 26,
     "metadata": {},
     "output_type": "execute_result"
    }
   ],
   "source": [
    "extract=process.extract(\"ni\",dupes,limit=3)\n",
    "extract"
   ]
  },
  {
   "cell_type": "code",
   "execution_count": 27,
   "id": "9218739a",
   "metadata": {},
   "outputs": [
    {
     "data": {
      "text/plain": [
       "('Rereri', 60)"
      ]
     },
     "execution_count": 27,
     "metadata": {},
     "output_type": "execute_result"
    }
   ],
   "source": [
    "extract1=process.extractOne(\"pri\",dupes)\n",
    "extract1"
   ]
  },
  {
   "cell_type": "code",
   "execution_count": null,
   "id": "f30e87c8",
   "metadata": {},
   "outputs": [],
   "source": []
  }
 ],
 "metadata": {
  "kernelspec": {
   "display_name": "Python 3 (ipykernel)",
   "language": "python",
   "name": "python3"
  },
  "language_info": {
   "codemirror_mode": {
    "name": "ipython",
    "version": 3
   },
   "file_extension": ".py",
   "mimetype": "text/x-python",
   "name": "python",
   "nbconvert_exporter": "python",
   "pygments_lexer": "ipython3",
   "version": "3.9.12"
  }
 },
 "nbformat": 4,
 "nbformat_minor": 5
}
